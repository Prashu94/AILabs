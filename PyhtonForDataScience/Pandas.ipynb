{
 "cells": [
  {
   "cell_type": "code",
   "execution_count": 1,
   "metadata": {},
   "outputs": [],
   "source": [
    "import pandas as pd"
   ]
  },
  {
   "cell_type": "code",
   "execution_count": 2,
   "metadata": {},
   "outputs": [
    {
     "name": "stdout",
     "output_type": "stream",
     "text": [
      "    C1  C2    C3\n",
      "R1   1   2   NaN\n",
      "R2   5  10  20.0\n"
     ]
    }
   ],
   "source": [
    "# 1. Using list of dictionary\n",
    "lst = [{\"C1\": 1, \"C2\": 2},\n",
    "      {\"C1\": 5, \"C2\": 10, \"C3\": 20}]\n",
    "print(pd.DataFrame(lst, index = [\"R1\", \"R2\"]))"
   ]
  },
  {
   "cell_type": "code",
   "execution_count": 3,
   "metadata": {},
   "outputs": [
    {
     "name": "stdout",
     "output_type": "stream",
     "text": [
      "   C1 C2\n",
      "R1  1  2\n",
      "R2  3  4\n"
     ]
    }
   ],
   "source": [
    "# 2. Using dictionary \n",
    "dc = {\"C1\": [\"1\", \"3\"],\n",
    "     \"C2\":[\"2\", \"4\"]}\n",
    "print(pd.DataFrame(dc, index = [\"R1\", \"R2\"]))"
   ]
  },
  {
   "cell_type": "code",
   "execution_count": 4,
   "metadata": {},
   "outputs": [
    {
     "name": "stdout",
     "output_type": "stream",
     "text": [
      "    a   b\n",
      "p  52  34\n",
      "q  45  85\n"
     ]
    }
   ],
   "source": [
    "# 3. Using list\n",
    "lst = [[52, 34], [45, 85]]\n",
    "print(pd.DataFrame(lst, index = list('pq'), columns = list('ab')))"
   ]
  },
  {
   "cell_type": "code",
   "execution_count": 9,
   "metadata": {},
   "outputs": [
    {
     "name": "stdout",
     "output_type": "stream",
     "text": [
      "      A     B   C       D\n",
      "0  10.0  text   2  (3+9j)\n",
      "1  20.0  text  60  (3+9j)\n",
      "A       float64\n",
      "B        object\n",
      "C         int64\n",
      "D    complex128\n",
      "dtype: object\n",
      "<class 'pandas.core.frame.DataFrame'>\n",
      "RangeIndex: 2 entries, 0 to 1\n",
      "Data columns (total 4 columns):\n",
      "A    2 non-null float64\n",
      "B    2 non-null object\n",
      "C    2 non-null int64\n",
      "D    2 non-null complex128\n",
      "dtypes: complex128(1), float64(1), int64(1), object(1)\n",
      "memory usage: 160.0+ bytes\n",
      "None\n"
     ]
    }
   ],
   "source": [
    "# Hetrogenous DataFrame\n",
    "df = pd.DataFrame({'A': [10., 20.],\n",
    "                  'B': \"text\",\n",
    "                  'C': [2, 60],\n",
    "                  'D': 3+9j})\n",
    "print(df)\n",
    "print(df.dtypes)\n",
    "print(df.info())"
   ]
  },
  {
   "cell_type": "code",
   "execution_count": 10,
   "metadata": {},
   "outputs": [
    {
     "name": "stdout",
     "output_type": "stream",
     "text": [
      "RangeIndex(start=0, stop=2, step=1)\n"
     ]
    }
   ],
   "source": [
    "# index of rows\n",
    "print((df.index))"
   ]
  },
  {
   "cell_type": "code",
   "execution_count": 11,
   "metadata": {},
   "outputs": [
    {
     "name": "stdout",
     "output_type": "stream",
     "text": [
      "Index(['A', 'B', 'C', 'D'], dtype='object')\n"
     ]
    }
   ],
   "source": [
    "# index of columns\n",
    "print(df.columns)"
   ]
  },
  {
   "cell_type": "code",
   "execution_count": 12,
   "metadata": {},
   "outputs": [
    {
     "name": "stdout",
     "output_type": "stream",
     "text": [
      "[[10.0 'text' 2 (3+9j)]\n",
      " [20.0 'text' 60 (3+9j)]]\n"
     ]
    }
   ],
   "source": [
    "# Display values of df\n",
    "print(df.values)"
   ]
  },
  {
   "cell_type": "code",
   "execution_count": 13,
   "metadata": {},
   "outputs": [],
   "source": [
    "# Exercise\n",
    "df = pd.DataFrame([[0.23, \"f1\"], \n",
    "                  [5.36, 'f2']],\n",
    "                 index = list('pq'),\n",
    "                 columns = list('ab'))"
   ]
  },
  {
   "cell_type": "code",
   "execution_count": 14,
   "metadata": {},
   "outputs": [
    {
     "name": "stdout",
     "output_type": "stream",
     "text": [
      "      a   b\n",
      "p  0.23  f1\n",
      "q  5.36  f2\n"
     ]
    }
   ],
   "source": [
    "print(df)"
   ]
  },
  {
   "cell_type": "code",
   "execution_count": 15,
   "metadata": {},
   "outputs": [],
   "source": [
    "# Change the column name from ' a' to ' A'.\n",
    "df.rename(columns = {'a':'A'}, inplace=True)"
   ]
  },
  {
   "cell_type": "code",
   "execution_count": 16,
   "metadata": {},
   "outputs": [
    {
     "name": "stdout",
     "output_type": "stream",
     "text": [
      "Index(['A', 'b'], dtype='object')\n"
     ]
    }
   ],
   "source": [
    "print(df.columns)"
   ]
  },
  {
   "cell_type": "code",
   "execution_count": 25,
   "metadata": {},
   "outputs": [],
   "source": [
    "import numpy as np\n",
    "#Add a new column ' c' filled with random values.\n",
    "df['c'] = [np.random.randint(50, 100) for i in range(2)]"
   ]
  },
  {
   "cell_type": "code",
   "execution_count": 26,
   "metadata": {},
   "outputs": [
    {
     "name": "stdout",
     "output_type": "stream",
     "text": [
      "      A   b   c\n",
      "p  0.23  f1  59\n",
      "q  5.36  f2  76\n"
     ]
    }
   ],
   "source": [
    "print(df)"
   ]
  },
  {
   "cell_type": "code",
   "execution_count": 27,
   "metadata": {},
   "outputs": [
    {
     "name": "stdout",
     "output_type": "stream",
     "text": [
      "           A   b   c\n",
      "p  (0.23+0j)  f1  59\n",
      "q  (5.36+0j)  f2  76\n"
     ]
    }
   ],
   "source": [
    "# Change the datatype of column ' A' values to complex.\n",
    "df = df.astype({'A':'complex'})\n",
    "print(df)"
   ]
  },
  {
   "cell_type": "code",
   "execution_count": 29,
   "metadata": {},
   "outputs": [
    {
     "data": {
      "text/html": [
       "<div>\n",
       "<style scoped>\n",
       "    .dataframe tbody tr th:only-of-type {\n",
       "        vertical-align: middle;\n",
       "    }\n",
       "\n",
       "    .dataframe tbody tr th {\n",
       "        vertical-align: top;\n",
       "    }\n",
       "\n",
       "    .dataframe thead th {\n",
       "        text-align: right;\n",
       "    }\n",
       "</style>\n",
       "<table border=\"1\" class=\"dataframe\">\n",
       "  <thead>\n",
       "    <tr style=\"text-align: right;\">\n",
       "      <th></th>\n",
       "      <th>A</th>\n",
       "      <th>b</th>\n",
       "      <th>c</th>\n",
       "    </tr>\n",
       "  </thead>\n",
       "  <tbody>\n",
       "    <tr>\n",
       "      <th>q</th>\n",
       "      <td>(5.36+0j)</td>\n",
       "      <td>f2</td>\n",
       "      <td>76</td>\n",
       "    </tr>\n",
       "  </tbody>\n",
       "</table>\n",
       "</div>"
      ],
      "text/plain": [
       "           A   b   c\n",
       "q  (5.36+0j)  f2  76"
      ]
     },
     "metadata": {},
     "output_type": "display_data"
    }
   ],
   "source": [
    "# Display rows whose any of the element matches with any element of the given list:\n",
    "lst = ['f30','f50','f2','f0']\n",
    "df_new = df[df['b'].isin(lst)]\n",
    "display(df_new)"
   ]
  },
  {
   "cell_type": "markdown",
   "metadata": {},
   "source": [
    "### Operations"
   ]
  },
  {
   "cell_type": "code",
   "execution_count": 30,
   "metadata": {},
   "outputs": [
    {
     "name": "stdout",
     "output_type": "stream",
     "text": [
      "  Unnamed: 0   C   D\n",
      "0          A  11  20\n",
      "1          B  33  44\n"
     ]
    }
   ],
   "source": [
    "df = pd.DataFrame([[11, 20], [33, 44]], index = list('AB'), columns = list('CD'))\n",
    "''' Write to an excel file '''\n",
    "df.to_excel('test_file.xlsx', sheet_name = \"Sheet1\")\n",
    "\n",
    "''' Reading from an excel file '''\n",
    "print(pd.read_excel('test_file.xlsx', 'Sheet1'))"
   ]
  },
  {
   "cell_type": "code",
   "execution_count": 32,
   "metadata": {},
   "outputs": [
    {
     "name": "stdout",
     "output_type": "stream",
     "text": [
      "                                                                                                                                      26/08/17  \\\n",
      "26/08/17                                    12:36:23 PM: Friend1: *Richard M. Stallman        a staff software programmer at the Massachuse...   \n",
      "*discovered the malfunction the hard way.* NaN                                                                                             NaN   \n",
      "#Incredible                                NaN                                                                                             NaN   \n",
      "26/08/17                                    12:36:37 PM: ?+91 12345 45555: <?image omitted>                                                NaN   \n",
      "                                            12:36:54 PM: +91 12345 45555: <?image omitted>                                                 NaN   \n",
      "\n",
      "                                                                                             12:28:58 PM: ?Messages to this group are now secured with end-to-end encryption.  \n",
      "26/08/17                                    12:36:23 PM: Friend1: *Richard M. Stallman                                                       *                                 \n",
      "*discovered the malfunction the hard way.* NaN                                                                                             NaN                                 \n",
      "#Incredible                                NaN                                                                                             NaN                                 \n",
      "26/08/17                                    12:36:37 PM: ?+91 12345 45555: <?image omitted>                                                NaN                                 \n",
      "                                            12:36:54 PM: +91 12345 45555: <?image omitted>                                                 NaN                                 \n"
     ]
    }
   ],
   "source": [
    "# read a text file\n",
    "df = pd.read_csv ('chat.txt')\n",
    "print(df.head(5))"
   ]
  },
  {
   "cell_type": "code",
   "execution_count": null,
   "metadata": {},
   "outputs": [],
   "source": []
  }
 ],
 "metadata": {
  "kernelspec": {
   "display_name": "Python 3",
   "language": "python",
   "name": "python3"
  },
  "language_info": {
   "codemirror_mode": {
    "name": "ipython",
    "version": 3
   },
   "file_extension": ".py",
   "mimetype": "text/x-python",
   "name": "python",
   "nbconvert_exporter": "python",
   "pygments_lexer": "ipython3",
   "version": "3.7.3"
  }
 },
 "nbformat": 4,
 "nbformat_minor": 2
}
