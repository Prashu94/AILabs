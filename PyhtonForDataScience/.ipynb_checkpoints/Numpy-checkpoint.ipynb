{
 "cells": [
  {
   "cell_type": "code",
   "execution_count": 1,
   "metadata": {},
   "outputs": [
    {
     "name": "stdout",
     "output_type": "stream",
     "text": [
      "[5, 10, 0, 200]\n"
     ]
    }
   ],
   "source": [
    "lst = [5, 10, 0, 200]\n",
    "print(lst)"
   ]
  },
  {
   "cell_type": "code",
   "execution_count": 2,
   "metadata": {},
   "outputs": [
    {
     "name": "stdout",
     "output_type": "stream",
     "text": [
      "[1, 2, 3, 'text', True, (3+2j)]\n"
     ]
    }
   ],
   "source": [
    "lst = [1, 2, 3, 'text', True, 3+2j]\n",
    "print(lst)"
   ]
  },
  {
   "cell_type": "code",
   "execution_count": 3,
   "metadata": {},
   "outputs": [
    {
     "name": "stdout",
     "output_type": "stream",
     "text": [
      "[56, 45, 12, 6]\n"
     ]
    }
   ],
   "source": [
    "lst = [56, 45, 12, 6]\n",
    "print(lst)"
   ]
  },
  {
   "cell_type": "markdown",
   "metadata": {},
   "source": [
    "### Numpy operations"
   ]
  },
  {
   "cell_type": "code",
   "execution_count": 4,
   "metadata": {},
   "outputs": [
    {
     "name": "stdout",
     "output_type": "stream",
     "text": [
      "[  5  10   0 200]\n",
      "[ 10  15   5 205]\n"
     ]
    }
   ],
   "source": [
    "lst = [5, 10, 0, 200]\n",
    "\n",
    "import numpy as np\n",
    "arr = np.array(lst)\n",
    "print(arr)\n",
    "print(arr+5) # Example of vectorized operations\n"
   ]
  },
  {
   "cell_type": "code",
   "execution_count": 5,
   "metadata": {},
   "outputs": [
    {
     "name": "stdout",
     "output_type": "stream",
     "text": [
      "<class 'numpy.str_'> <class 'numpy.str_'> <class 'numpy.str_'>\n"
     ]
    }
   ],
   "source": [
    "lst = [1, 2, 3, 'text', True, 3+2j]\n",
    "arr = np.array(lst)\n",
    "print(type(arr[0]), type(arr[4]), type(arr[5]))"
   ]
  },
  {
   "cell_type": "code",
   "execution_count": 6,
   "metadata": {},
   "outputs": [
    {
     "name": "stdout",
     "output_type": "stream",
     "text": [
      "16\n"
     ]
    }
   ],
   "source": [
    "lst = [56, 45, 12, 6]\n",
    "arr = np.array(lst)\n",
    "print(arr.nbytes)"
   ]
  },
  {
   "cell_type": "markdown",
   "metadata": {},
   "source": [
    "### NumPy object creation"
   ]
  },
  {
   "cell_type": "code",
   "execution_count": 7,
   "metadata": {},
   "outputs": [
    {
     "name": "stdout",
     "output_type": "stream",
     "text": [
      "[2 5 6 8]\n",
      "<class 'numpy.ndarray'>\n",
      "int32\n"
     ]
    }
   ],
   "source": [
    "arr = np.array([2, 5, 6, 8], dtype = int)\n",
    "print(arr)\n",
    "print(type(arr))\n",
    "print(np.result_type(arr))"
   ]
  },
  {
   "cell_type": "code",
   "execution_count": 8,
   "metadata": {},
   "outputs": [
    {
     "name": "stdout",
     "output_type": "stream",
     "text": [
      "[0.   1.33 2.66 3.99 5.32 6.65 7.98 9.31]\n"
     ]
    }
   ],
   "source": [
    "# Create a numpy array with step size 1.33 between 0-10\n",
    "print(np.arange( 0, 10, 1.33, dtype = np.float64))"
   ]
  },
  {
   "cell_type": "code",
   "execution_count": 9,
   "metadata": {},
   "outputs": [
    {
     "name": "stdout",
     "output_type": "stream",
     "text": [
      "[  0.  40.  80. 120. 160.]\n"
     ]
    }
   ],
   "source": [
    "# Create an array with total 5 values betweem 0-160\n",
    "print(np.linspace(0, 160, 5, dtype = np.float64))"
   ]
  },
  {
   "cell_type": "markdown",
   "metadata": {},
   "source": [
    "### Matrix Creation"
   ]
  },
  {
   "cell_type": "code",
   "execution_count": 10,
   "metadata": {},
   "outputs": [
    {
     "name": "stdout",
     "output_type": "stream",
     "text": [
      "[[ 5  6  8]\n",
      " [45 12 34]]\n"
     ]
    }
   ],
   "source": [
    "# Method 1: Using array and reshape to convert array into matrix\n",
    "print(np.array([5, 6, 8, 45, 12, 34]).reshape(2, 3))"
   ]
  },
  {
   "cell_type": "code",
   "execution_count": 11,
   "metadata": {},
   "outputs": [
    {
     "name": "stdout",
     "output_type": "stream",
     "text": [
      "[[1 2]\n",
      " [3 4]]\n"
     ]
    }
   ],
   "source": [
    "# Method 2: Using matrix function\n",
    "print(np.matrix([[1, 2], [3, 4]]))"
   ]
  },
  {
   "cell_type": "code",
   "execution_count": 12,
   "metadata": {},
   "outputs": [
    {
     "name": "stdout",
     "output_type": "stream",
     "text": [
      "[[1. 0. 0.]\n",
      " [0. 1. 0.]\n",
      " [0. 0. 1.]]\n",
      "[[0. 0. 0.]\n",
      " [0. 0. 0.]\n",
      " [0. 0. 0.]\n",
      " [0. 0. 0.]]\n",
      "[[1. 1. 1.]\n",
      " [1. 1. 1.]\n",
      " [1. 1. 1.]]\n"
     ]
    }
   ],
   "source": [
    "# Method 3: Using misc. function\n",
    "print(np.eye(3)) # Identity Matrix\n",
    "print(np.zeros((4, 3)))\n",
    "print(np.ones( (3,3), dtype = np.float64 ))"
   ]
  },
  {
   "cell_type": "markdown",
   "metadata": {},
   "source": [
    "#### Exercise:\n",
    "Given 2 NumPy Arrays arr1 = [25, 56, 12, 85, 34, 75] and arr2 = [42, 3, 86, 32, 856, 46]\n",
    "1. Create a numpy array Narr with the shape equal to arr1 filled with random values.\n",
    "2. Permanently change the dtype of arr1 to complex\n",
    "3. Transform arrays arr1 and arr2 into 2 matrices (arr1_mat and arr2_mat) of shape(2, 3)"
   ]
  },
  {
   "cell_type": "code",
   "execution_count": 13,
   "metadata": {},
   "outputs": [
    {
     "name": "stdout",
     "output_type": "stream",
     "text": [
      "[0.68510077 0.9893482  0.60790003 0.24671893 0.81245221 0.97929038]\n"
     ]
    }
   ],
   "source": [
    "# 1\n",
    "arr1 = [25, 56, 12, 85, 34, 75]\n",
    "Narr = np.random.rand(len(arr1))\n",
    "print(Narr)"
   ]
  },
  {
   "cell_type": "code",
   "execution_count": 14,
   "metadata": {},
   "outputs": [
    {
     "name": "stdout",
     "output_type": "stream",
     "text": [
      "[25.+0.j 56.+0.j 12.+0.j 85.+0.j 34.+0.j 75.+0.j]\n"
     ]
    }
   ],
   "source": [
    "arr1 = [25, 56, 12, 85, 34, 75]\n",
    "arr2 = [42, 3, 86, 32, 856, 46]\n",
    "arr1_dtype_changed = (np.array(arr1).astype(complex))\n",
    "print(arr1_dtype_changed)"
   ]
  },
  {
   "cell_type": "code",
   "execution_count": 15,
   "metadata": {},
   "outputs": [
    {
     "name": "stdout",
     "output_type": "stream",
     "text": [
      "[[ 67.-0.j  59.+0.j  98.-0.j]\n",
      " [117.+0.j 890.-0.j 121.+0.j]]\n"
     ]
    }
   ],
   "source": [
    "arr1 = [25, 56, 12, 85, 34, 75]\n",
    "arr2 = [42, 3, 86, 32, 856, 46]\n",
    "arr1_mat = np.array(arr1).reshape(2, 3).astype(complex)\n",
    "arr2_mat = np.array(arr2).reshape(2, 3).astype(complex)\n",
    "arr3_result = (arr1_mat **2 - arr2_mat ** 2)/(arr1_mat - arr2_mat)\n",
    "print(arr3_result)"
   ]
  },
  {
   "cell_type": "code",
   "execution_count": 16,
   "metadata": {},
   "outputs": [
    {
     "name": "stdout",
     "output_type": "stream",
     "text": [
      "float64\n",
      "float64\n"
     ]
    }
   ],
   "source": [
    "arr1 = np.ones(10)\n",
    "arr2 = np.arange(10, dtype = np.float64)\n",
    "arr3 = arr1 + arr2\n",
    "print(np.result_type(arr1))\n",
    "print(np.result_type(arr3))"
   ]
  },
  {
   "cell_type": "code",
   "execution_count": 17,
   "metadata": {},
   "outputs": [
    {
     "name": "stdout",
     "output_type": "stream",
     "text": [
      "(4,)\n"
     ]
    }
   ],
   "source": [
    "arr = np.arange(4)\n",
    "arr.reshape(2,2)\n",
    "print(arr.shape)\n",
    " "
   ]
  },
  {
   "cell_type": "code",
   "execution_count": 18,
   "metadata": {},
   "outputs": [
    {
     "name": "stdout",
     "output_type": "stream",
     "text": [
      "(4, 1)\n"
     ]
    }
   ],
   "source": [
    "arr = np.arange(4).reshape(4,-1)\n",
    "print(arr.shape)"
   ]
  },
  {
   "cell_type": "markdown",
   "metadata": {},
   "source": [
    "#### Vectorized Operations"
   ]
  },
  {
   "cell_type": "code",
   "execution_count": 19,
   "metadata": {},
   "outputs": [
    {
     "name": "stdout",
     "output_type": "stream",
     "text": [
      "[[2 5 6 5]\n",
      " [4 8 6 5]]\n"
     ]
    }
   ],
   "source": [
    "S_X = np.array([[2, 5, 6, 5],\n",
    "              [4, 8, 6, 5]])\n",
    "print(S_X)"
   ]
  },
  {
   "cell_type": "code",
   "execution_count": 20,
   "metadata": {},
   "outputs": [
    {
     "name": "stdout",
     "output_type": "stream",
     "text": [
      "[[6 7 5 9]\n",
      " [7 5 6 4]]\n"
     ]
    }
   ],
   "source": [
    "S_Y = np.array([[6, 7, 5, 9],\n",
    "               [7, 5, 6, 4]])\n",
    "print(S_Y)"
   ]
  },
  {
   "cell_type": "code",
   "execution_count": 21,
   "metadata": {},
   "outputs": [
    {
     "name": "stdout",
     "output_type": "stream",
     "text": [
      "[[ 4  2 -1  4]\n",
      " [ 3 -3  0 -1]]\n"
     ]
    }
   ],
   "source": [
    "# 1. Quaterly difference between each state's literacy rate per year\n",
    "print(S_Y - S_X)"
   ]
  },
  {
   "cell_type": "code",
   "execution_count": 22,
   "metadata": {},
   "outputs": [
    {
     "name": "stdout",
     "output_type": "stream",
     "text": [
      "[[False False False False]\n",
      " [False False False False]]\n",
      "[[False False False False]\n",
      " [False False False False]]\n"
     ]
    }
   ],
   "source": [
    "# 2. Quaters having a literacy rate less than 2\n",
    "'''Method 1'''\n",
    "print(S_X < 2)\n",
    "\n",
    "'''Method 2'''\n",
    "twos_mat = np.ones((2, 4)) * 2\n",
    "print(np.less(S_Y, twos_mat))"
   ]
  },
  {
   "cell_type": "code",
   "execution_count": 23,
   "metadata": {},
   "outputs": [
    {
     "name": "stdout",
     "output_type": "stream",
     "text": [
      "[[ 2  7 13 18]\n",
      " [ 4 12 18 23]]\n",
      "[[ 6 13 18 27]\n",
      " [ 7 12 18 22]]\n",
      "[[False False  True  True]\n",
      " [False  True  True  True]]\n",
      "[[False  True  True  True]\n",
      " [False  True  True  True]]\n"
     ]
    }
   ],
   "source": [
    "# 3. Find out the cummulative sum of literacy rates by the end of every quarter each year. Find out the quarters for which the\n",
    "# sum is greater than equal to 8\n",
    "X_cumsum = np.cumsum(S_X, axis = 1)\n",
    "print(X_cumsum)\n",
    "Y_cumsum = np.cumsum(S_Y, axis = 1)\n",
    "print(Y_cumsum)\n",
    "\n",
    "print(X_cumsum > 8)\n",
    "print(Y_cumsum > 8)"
   ]
  },
  {
   "cell_type": "code",
   "execution_count": 24,
   "metadata": {},
   "outputs": [
    {
     "name": "stdout",
     "output_type": "stream",
     "text": [
      "[4.5  5.75]\n",
      "[6.5 6.  5.5 6.5]\n"
     ]
    }
   ],
   "source": [
    "# 4. Mean of each year's literacy rate of State X and mean of each quarterly's literacy rate of State Y.\n",
    "print(np.mean(S_X, axis = 1))\n",
    "print(np.mean(S_Y, axis = 0))"
   ]
  },
  {
   "cell_type": "markdown",
   "metadata": {},
   "source": [
    "#### Vectorization Exercises\n",
    "1. Create a 4 x 4 matrix and add values 4, 5, 6 above the parent diagonal\n",
    "2. Given a numpy array arr = np.arange(11), negate all the elements between 6 and 10\n",
    "3. Given a matrix mat and an array arr, for each row of the matrix if elements of Column 1 are equal to the corresponding element of the array, then print the corresponding value of Column 2 of the matrix.\n",
    "4. Given a matrix mat, sort it by the second column.\n",
    "5. Given an array arr, find the top 4 maximum values.\n",
    "6. Find the nearest number from the given number in an array."
   ]
  },
  {
   "cell_type": "code",
   "execution_count": 25,
   "metadata": {},
   "outputs": [
    {
     "name": "stdout",
     "output_type": "stream",
     "text": [
      "[[0 4 0 0]\n",
      " [0 0 5 0]\n",
      " [0 0 0 6]\n",
      " [0 0 0 0]]\n"
     ]
    }
   ],
   "source": [
    "# 1. Create a 4 x 4 matrix and add values 4, 5, 6 above the parent diagonal\n",
    "l1 = [4,5,6]\n",
    "print(np.diag(l1,1))"
   ]
  },
  {
   "cell_type": "code",
   "execution_count": 26,
   "metadata": {},
   "outputs": [
    {
     "name": "stdout",
     "output_type": "stream",
     "text": [
      "[ 0  1  2  3  4  5  6  7  8  9 10]\n",
      "[ 0  1  2  3  4  5  6 -7 -8 -9 10]\n"
     ]
    }
   ],
   "source": [
    "# 2. Given a numpy array arr = np.arange(11), negate all the elements between 6 and 10\n",
    "arr2 = np.arange(11)\n",
    "print(arr2)\n",
    "arr2[7:10] = arr2[7:10]*-1\n",
    "print(arr2)"
   ]
  },
  {
   "cell_type": "code",
   "execution_count": 27,
   "metadata": {},
   "outputs": [
    {
     "name": "stdout",
     "output_type": "stream",
     "text": [
      "['A' 'C']\n"
     ]
    }
   ],
   "source": [
    "# 3. Given a matrix mat and an array arr, for each row of the matrix if elements of Column 1 \n",
    "# are equal to the corresponding element of the array, \n",
    "# then print the corresponding value of Column 2 of the matrix.\n",
    "mat = np.array([['abc','A'],['def','B'],['ghi','C'],['jkl','D']])\n",
    "arr = np.array(['abc','dfe','ghi','kjl']) \n",
    "arr3 = mat[mat[:,0] == arr]\n",
    "print(arr3[:,1])\n"
   ]
  },
  {
   "cell_type": "code",
   "execution_count": 28,
   "metadata": {},
   "outputs": [
    {
     "name": "stdout",
     "output_type": "stream",
     "text": [
      "[[ 5  4  2]\n",
      " [ 1 21  3]\n",
      " [56 12  4]]\n"
     ]
    }
   ],
   "source": [
    "# 4. Given a matrix mat, sort it by the second column.\n",
    "mat = np.array([[1,21,3],[5,4,2],[56,12,4]])\n",
    "print(mat[mat[:,-1].argsort()])"
   ]
  },
  {
   "cell_type": "code",
   "execution_count": 29,
   "metadata": {},
   "outputs": [
    {
     "name": "stdout",
     "output_type": "stream",
     "text": [
      "[ 45  50  90 590]\n"
     ]
    }
   ],
   "source": [
    "# 5. Given an array arr, find the top 4 maximum values.\n",
    "arr = np.array([90, 14, 24, 13, 13, 590, 0, 45, 16, 50])\n",
    "print(np.sort(arr)[-4:])"
   ]
  },
  {
   "cell_type": "code",
   "execution_count": 30,
   "metadata": {},
   "outputs": [
    {
     "name": "stdout",
     "output_type": "stream",
     "text": [
      "54\n"
     ]
    }
   ],
   "source": [
    "# 6. Find the nearest number from the given number in an array.\n",
    "arr = np.array([10,55,22,3,6,44,9,54])\n",
    "nearest_to = 50\n",
    "idx = (np.abs(arr - nearest_to)).argmin()\n",
    "print(arr[idx])"
   ]
  },
  {
   "cell_type": "code",
   "execution_count": 31,
   "metadata": {},
   "outputs": [
    {
     "name": "stdout",
     "output_type": "stream",
     "text": [
      "25\n"
     ]
    }
   ],
   "source": [
    "arr1 = np.arange(4)\n",
    "arr2 = arr1 \n",
    "arr2[0]+= 25\n",
    "print(arr1[0])"
   ]
  },
  {
   "cell_type": "markdown",
   "metadata": {},
   "source": [
    "#### Operations on Axis"
   ]
  },
  {
   "cell_type": "code",
   "execution_count": 32,
   "metadata": {},
   "outputs": [
    {
     "name": "stdout",
     "output_type": "stream",
     "text": [
      "[[10  5  9]\n",
      " [ 2 20  6]\n",
      " [ 8  3 30]]\n",
      "(array([0, 0, 1], dtype=int64), array([1, 2, 2], dtype=int64))\n",
      "(array([0, 1, 2]), array([0, 1, 2]))\n",
      "(array([1, 2, 2], dtype=int64), array([0, 0, 1], dtype=int64))\n",
      "10\n",
      "20\n",
      "30\n",
      "[[30 15 19]\n",
      " [32 40 16]\n",
      " [38 33 50]]\n"
     ]
    }
   ],
   "source": [
    "# Given a matrix mat of size 3 x 3. Find the maximum numbers from each row , say N1, N2 and N3. \n",
    "# Result in a matrix by adding.\n",
    "mat = np.array([[10,5,9], [2, 20, 6], [8, 3, 30]]).reshape(3,3)\n",
    "print(mat)\n",
    "upper_indices = np.mask_indices(3, np.triu, 1)\n",
    "print(upper_indices)\n",
    "diag_indices = np.diag_indices(3)\n",
    "print(diag_indices)\n",
    "lower_indices = np.mask_indices(3, np.tril, -1)\n",
    "print(lower_indices)\n",
    "#get max of Top row\n",
    "l_max_t = np.max(mat[0])\n",
    "print(l_max_t)\n",
    "#get max of Middle row\n",
    "l_max_m = np.max(mat[1])\n",
    "print(l_max_m)\n",
    "#get max of Last row\n",
    "l_max_l = np.max(mat[2])\n",
    "print(l_max_l)\n",
    "mat[upper_indices] = mat[upper_indices] + l_max_t\n",
    "mat[diag_indices] = mat[diag_indices] + l_max_m\n",
    "mat[lower_indices] = mat[lower_indices] + l_max_l\n",
    "print(mat)"
   ]
  },
  {
   "cell_type": "code",
   "execution_count": 33,
   "metadata": {},
   "outputs": [
    {
     "ename": "SyntaxError",
     "evalue": "invalid token (<ipython-input-33-30f9802ee1c3>, line 4)",
     "output_type": "error",
     "traceback": [
      "\u001b[1;36m  File \u001b[1;32m\"<ipython-input-33-30f9802ee1c3>\"\u001b[1;36m, line \u001b[1;32m4\u001b[0m\n\u001b[1;33m    print(mat1.sum(axis = 01).shape)\u001b[0m\n\u001b[1;37m                           ^\u001b[0m\n\u001b[1;31mSyntaxError\u001b[0m\u001b[1;31m:\u001b[0m invalid token\n"
     ]
    }
   ],
   "source": [
    "mat1 = np.matrix([[111, 1322],\n",
    "                  [785, 554]])\n",
    "\n",
    "print(mat1.sum(axis = 01).shape)\n",
    "print(mat1.sum(axis = 1).shape)\n",
    " "
   ]
  },
  {
   "cell_type": "code",
   "execution_count": 34,
   "metadata": {},
   "outputs": [
    {
     "name": "stdout",
     "output_type": "stream",
     "text": [
      "[[10  5]\n",
      " [ 6  7]]\n",
      "[16 12]\n"
     ]
    }
   ],
   "source": [
    "arr = np.array([10,5,6,7]).reshape(2,-1)\n",
    "print(arr)\n",
    "print(arr.sum(axis = 0))"
   ]
  },
  {
   "cell_type": "code",
   "execution_count": null,
   "metadata": {},
   "outputs": [],
   "source": []
  }
 ],
 "metadata": {
  "kernelspec": {
   "display_name": "Python 3",
   "language": "python",
   "name": "python3"
  },
  "language_info": {
   "codemirror_mode": {
    "name": "ipython",
    "version": 3
   },
   "file_extension": ".py",
   "mimetype": "text/x-python",
   "name": "python",
   "nbconvert_exporter": "python",
   "pygments_lexer": "ipython3",
   "version": "3.7.3"
  }
 },
 "nbformat": 4,
 "nbformat_minor": 2
}
